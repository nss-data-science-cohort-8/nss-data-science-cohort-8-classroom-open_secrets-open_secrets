{
 "cells": [
  {
   "cell_type": "code",
   "execution_count": 1,
   "id": "d287b9ed-75cc-474b-a163-fcb4b5dcca27",
   "metadata": {},
   "outputs": [],
   "source": [
    "import pandas as pd\n",
    "import os\n",
    "import matplotlib.pyplot as plt\n",
    "import numpy as np"
   ]
  },
  {
   "cell_type": "markdown",
   "id": "43077fea-1530-4040-ab3a-555d522f0fd2",
   "metadata": {},
   "source": [
    "### Part 2: Exploratory Data Analysis\n",
    "Using your scraped data, investigates different relationships between candidates and the amount of money they raised. Here are some suggestions to get you started, but feel free to pose you own questions or do additional exploration:  \n",
    "    a. How often does the candidate who raised more money win a race?  \n",
    "    b. How often does the candidate who spent more money win a race?  \n",
    "    c. Does the difference between either money raised or money spent seem to influence the likelihood of a candidate winning a race?  \n",
    "    d. How often does the incumbent candidate win a race?  \n",
    "    e. Can you detect any relationship between amount of money raised and the incumbent status of a candidate?"
   ]
  },
  {
   "cell_type": "code",
   "execution_count": 3,
   "id": "2c4b22f4-25ef-4505-90a6-12476df62a85",
   "metadata": {},
   "outputs": [
    {
     "name": "stdout",
     "output_type": "stream",
     "text": [
      "current working directory is C:\\Users\\lexil\\Documents\\NSS_Projects\\open-secrets-three-musketeers\n"
     ]
    }
   ],
   "source": [
    "os.chdir('..')\n",
    "print(f'current working directory is {os.getcwd()}')"
   ]
  },
  {
   "cell_type": "code",
   "execution_count": 4,
   "id": "1a2de412-ce96-4172-b199-f39660270561",
   "metadata": {},
   "outputs": [],
   "source": [
    "full_df = pd.read_csv('../open-secrets-three-musketeers/data/full_df.csv')"
   ]
  },
  {
   "cell_type": "code",
   "execution_count": 5,
   "id": "7e81bbec-5db1-491e-9f56-0c774abb7ce7",
   "metadata": {},
   "outputs": [],
   "source": [
    "df_dropped_columns = full_df.drop(columns=['Incumbent', 'IncCID', 'capeye', 'SmLgIndivsNote', 'DistIDCurr', 'PACs', 'Indivs', 'Cand', 'Other', 'ReleaseDate', 'enddate'])"
   ]
  },
  {
   "cell_type": "code",
   "execution_count": 6,
   "id": "ea9e11bf-a09e-4f27-a21c-55682b861aea",
   "metadata": {},
   "outputs": [],
   "source": [
    "df_clean = df_dropped_columns.rename(columns={'Rcpts': 'Money_Raised', 'Spent': 'Money_Spent'})"
   ]
  },
  {
   "cell_type": "markdown",
   "id": "d470a2d8-f103-438f-b7f6-a4b42f1dac63",
   "metadata": {},
   "source": [
    "How often does the candidate who raised more money win a race?\n",
    "\n",
    "would we loop through wins over losses in a specific district and then calculate the probability?"
   ]
  },
  {
   "cell_type": "code",
   "execution_count": 8,
   "id": "30a3f495-7b01-4d97-9dea-723aaaa43d5c",
   "metadata": {},
   "outputs": [
    {
     "data": {
      "text/html": [
       "<div>\n",
       "<style scoped>\n",
       "    .dataframe tbody tr th:only-of-type {\n",
       "        vertical-align: middle;\n",
       "    }\n",
       "\n",
       "    .dataframe tbody tr th {\n",
       "        vertical-align: top;\n",
       "    }\n",
       "\n",
       "    .dataframe thead th {\n",
       "        text-align: right;\n",
       "    }\n",
       "</style>\n",
       "<table border=\"1\" class=\"dataframe\">\n",
       "  <thead>\n",
       "    <tr style=\"text-align: right;\">\n",
       "      <th></th>\n",
       "      <th>cid</th>\n",
       "      <th>FirstLastP</th>\n",
       "      <th>Money_Raised</th>\n",
       "      <th>Money_Spent</th>\n",
       "      <th>EndCash</th>\n",
       "      <th>LgIndivs</th>\n",
       "      <th>SmIndivs</th>\n",
       "      <th>VotePercent</th>\n",
       "      <th>Result</th>\n",
       "      <th>CRPICO</th>\n",
       "      <th>State</th>\n",
       "      <th>primarydate</th>\n",
       "      <th>sort</th>\n",
       "      <th>District</th>\n",
       "      <th>State_Abv</th>\n",
       "    </tr>\n",
       "  </thead>\n",
       "  <tbody>\n",
       "    <tr>\n",
       "      <th>0</th>\n",
       "      <td>N00044245</td>\n",
       "      <td>Jerry Carl (R)</td>\n",
       "      <td>1971321.50</td>\n",
       "      <td>1859348.91</td>\n",
       "      <td>111972.59</td>\n",
       "      <td>999616.34</td>\n",
       "      <td>44579.61</td>\n",
       "      <td>64.88</td>\n",
       "      <td>W</td>\n",
       "      <td>O</td>\n",
       "      <td>Alabama</td>\n",
       "      <td>2020-03-03 00:00:00 +0000</td>\n",
       "      <td>2</td>\n",
       "      <td>1</td>\n",
       "      <td>AL</td>\n",
       "    </tr>\n",
       "    <tr>\n",
       "      <th>1</th>\n",
       "      <td>N00044750</td>\n",
       "      <td>James Averhart (D)</td>\n",
       "      <td>80094.95</td>\n",
       "      <td>78973.24</td>\n",
       "      <td>1121.71</td>\n",
       "      <td>37954.77</td>\n",
       "      <td>12895.18</td>\n",
       "      <td>35.04</td>\n",
       "      <td>L</td>\n",
       "      <td>O</td>\n",
       "      <td>Alabama</td>\n",
       "      <td>2020-03-03 00:00:00 +0000</td>\n",
       "      <td>2</td>\n",
       "      <td>1</td>\n",
       "      <td>AL</td>\n",
       "    </tr>\n",
       "    <tr>\n",
       "      <th>2</th>\n",
       "      <td>N00041295</td>\n",
       "      <td>Barry Moore (R)</td>\n",
       "      <td>650806.75</td>\n",
       "      <td>669367.70</td>\n",
       "      <td>-13633.28</td>\n",
       "      <td>346328.65</td>\n",
       "      <td>62207.55</td>\n",
       "      <td>65.30</td>\n",
       "      <td>W</td>\n",
       "      <td>O</td>\n",
       "      <td>Alabama</td>\n",
       "      <td>2020-03-03 00:00:00 +0000</td>\n",
       "      <td>2</td>\n",
       "      <td>2</td>\n",
       "      <td>AL</td>\n",
       "    </tr>\n",
       "    <tr>\n",
       "      <th>3</th>\n",
       "      <td>N00045944</td>\n",
       "      <td>Phyllis Harvey-Hall (D)</td>\n",
       "      <td>56049.68</td>\n",
       "      <td>55988.07</td>\n",
       "      <td>0.00</td>\n",
       "      <td>27105.15</td>\n",
       "      <td>15306.80</td>\n",
       "      <td>34.61</td>\n",
       "      <td>L</td>\n",
       "      <td>O</td>\n",
       "      <td>Alabama</td>\n",
       "      <td>2020-03-03 00:00:00 +0000</td>\n",
       "      <td>2</td>\n",
       "      <td>2</td>\n",
       "      <td>AL</td>\n",
       "    </tr>\n",
       "    <tr>\n",
       "      <th>5</th>\n",
       "      <td>N00024759</td>\n",
       "      <td>Mike D Rogers (R)</td>\n",
       "      <td>1193111.43</td>\n",
       "      <td>1218563.76</td>\n",
       "      <td>502233.70</td>\n",
       "      <td>438054.00</td>\n",
       "      <td>5315.00</td>\n",
       "      <td>67.54</td>\n",
       "      <td>W</td>\n",
       "      <td>I</td>\n",
       "      <td>Alabama</td>\n",
       "      <td>2020-03-03 00:00:00 +0000</td>\n",
       "      <td>1</td>\n",
       "      <td>3</td>\n",
       "      <td>AL</td>\n",
       "    </tr>\n",
       "    <tr>\n",
       "      <th>...</th>\n",
       "      <td>...</td>\n",
       "      <td>...</td>\n",
       "      <td>...</td>\n",
       "      <td>...</td>\n",
       "      <td>...</td>\n",
       "      <td>...</td>\n",
       "      <td>...</td>\n",
       "      <td>...</td>\n",
       "      <td>...</td>\n",
       "      <td>...</td>\n",
       "      <td>...</td>\n",
       "      <td>...</td>\n",
       "      <td>...</td>\n",
       "      <td>...</td>\n",
       "      <td>...</td>\n",
       "    </tr>\n",
       "    <tr>\n",
       "      <th>1256</th>\n",
       "      <td>N00045620</td>\n",
       "      <td>Tricia Zunker (D)</td>\n",
       "      <td>1261957.30</td>\n",
       "      <td>1232690.26</td>\n",
       "      <td>29267.04</td>\n",
       "      <td>566859.76</td>\n",
       "      <td>600014.91</td>\n",
       "      <td>39.24</td>\n",
       "      <td>L</td>\n",
       "      <td>C</td>\n",
       "      <td>Wisconsin</td>\n",
       "      <td>2020-08-11 00:00:00 +0000</td>\n",
       "      <td>2</td>\n",
       "      <td>7</td>\n",
       "      <td>WI</td>\n",
       "    </tr>\n",
       "    <tr>\n",
       "      <th>1257</th>\n",
       "      <td>N00039330</td>\n",
       "      <td>Mike Gallagher (R)</td>\n",
       "      <td>3202904.74</td>\n",
       "      <td>2841800.71</td>\n",
       "      <td>1169361.53</td>\n",
       "      <td>2040298.63</td>\n",
       "      <td>188430.08</td>\n",
       "      <td>63.98</td>\n",
       "      <td>W</td>\n",
       "      <td>I</td>\n",
       "      <td>Wisconsin</td>\n",
       "      <td>2020-08-11 00:00:00 +0000</td>\n",
       "      <td>1</td>\n",
       "      <td>8</td>\n",
       "      <td>WI</td>\n",
       "    </tr>\n",
       "    <tr>\n",
       "      <th>1258</th>\n",
       "      <td>N00045078</td>\n",
       "      <td>Amanda Stuck (D)</td>\n",
       "      <td>416978.45</td>\n",
       "      <td>399915.94</td>\n",
       "      <td>2164.80</td>\n",
       "      <td>221453.03</td>\n",
       "      <td>169379.57</td>\n",
       "      <td>36.02</td>\n",
       "      <td>L</td>\n",
       "      <td>C</td>\n",
       "      <td>Wisconsin</td>\n",
       "      <td>2020-08-11 00:00:00 +0000</td>\n",
       "      <td>2</td>\n",
       "      <td>8</td>\n",
       "      <td>WI</td>\n",
       "    </tr>\n",
       "    <tr>\n",
       "      <th>1259</th>\n",
       "      <td>N00035504</td>\n",
       "      <td>Liz Cheney (R)</td>\n",
       "      <td>3003883.34</td>\n",
       "      <td>3060166.78</td>\n",
       "      <td>153567.15</td>\n",
       "      <td>980348.72</td>\n",
       "      <td>189646.74</td>\n",
       "      <td>68.60</td>\n",
       "      <td>W</td>\n",
       "      <td>I</td>\n",
       "      <td>Wyoming</td>\n",
       "      <td>2020-08-18 00:00:00 +0000</td>\n",
       "      <td>1</td>\n",
       "      <td>1</td>\n",
       "      <td>WY</td>\n",
       "    </tr>\n",
       "    <tr>\n",
       "      <th>1260</th>\n",
       "      <td>N00047272</td>\n",
       "      <td>Lynnette Grey Bull (D)</td>\n",
       "      <td>134597.32</td>\n",
       "      <td>132234.75</td>\n",
       "      <td>2362.57</td>\n",
       "      <td>65975.00</td>\n",
       "      <td>64222.32</td>\n",
       "      <td>24.60</td>\n",
       "      <td>L</td>\n",
       "      <td>C</td>\n",
       "      <td>Wyoming</td>\n",
       "      <td>2020-08-18 00:00:00 +0000</td>\n",
       "      <td>2</td>\n",
       "      <td>1</td>\n",
       "      <td>WY</td>\n",
       "    </tr>\n",
       "  </tbody>\n",
       "</table>\n",
       "<p>893 rows × 15 columns</p>\n",
       "</div>"
      ],
      "text/plain": [
       "            cid               FirstLastP  Money_Raised  Money_Spent  \\\n",
       "0     N00044245           Jerry Carl (R)    1971321.50   1859348.91   \n",
       "1     N00044750       James Averhart (D)      80094.95     78973.24   \n",
       "2     N00041295          Barry Moore (R)     650806.75    669367.70   \n",
       "3     N00045944  Phyllis Harvey-Hall (D)      56049.68     55988.07   \n",
       "5     N00024759        Mike D Rogers (R)    1193111.43   1218563.76   \n",
       "...         ...                      ...           ...          ...   \n",
       "1256  N00045620        Tricia Zunker (D)    1261957.30   1232690.26   \n",
       "1257  N00039330       Mike Gallagher (R)    3202904.74   2841800.71   \n",
       "1258  N00045078         Amanda Stuck (D)     416978.45    399915.94   \n",
       "1259  N00035504           Liz Cheney (R)    3003883.34   3060166.78   \n",
       "1260  N00047272   Lynnette Grey Bull (D)     134597.32    132234.75   \n",
       "\n",
       "         EndCash    LgIndivs   SmIndivs  VotePercent Result CRPICO      State  \\\n",
       "0      111972.59   999616.34   44579.61        64.88      W      O    Alabama   \n",
       "1        1121.71    37954.77   12895.18        35.04      L      O    Alabama   \n",
       "2      -13633.28   346328.65   62207.55        65.30      W      O    Alabama   \n",
       "3           0.00    27105.15   15306.80        34.61      L      O    Alabama   \n",
       "5      502233.70   438054.00    5315.00        67.54      W      I    Alabama   \n",
       "...          ...         ...        ...          ...    ...    ...        ...   \n",
       "1256    29267.04   566859.76  600014.91        39.24      L      C  Wisconsin   \n",
       "1257  1169361.53  2040298.63  188430.08        63.98      W      I  Wisconsin   \n",
       "1258     2164.80   221453.03  169379.57        36.02      L      C  Wisconsin   \n",
       "1259   153567.15   980348.72  189646.74        68.60      W      I    Wyoming   \n",
       "1260     2362.57    65975.00   64222.32        24.60      L      C    Wyoming   \n",
       "\n",
       "                    primarydate  sort  District State_Abv  \n",
       "0     2020-03-03 00:00:00 +0000     2         1        AL  \n",
       "1     2020-03-03 00:00:00 +0000     2         1        AL  \n",
       "2     2020-03-03 00:00:00 +0000     2         2        AL  \n",
       "3     2020-03-03 00:00:00 +0000     2         2        AL  \n",
       "5     2020-03-03 00:00:00 +0000     1         3        AL  \n",
       "...                         ...   ...       ...       ...  \n",
       "1256  2020-08-11 00:00:00 +0000     2         7        WI  \n",
       "1257  2020-08-11 00:00:00 +0000     1         8        WI  \n",
       "1258  2020-08-11 00:00:00 +0000     2         8        WI  \n",
       "1259  2020-08-18 00:00:00 +0000     1         1        WY  \n",
       "1260  2020-08-18 00:00:00 +0000     2         1        WY  \n",
       "\n",
       "[893 rows x 15 columns]"
      ]
     },
     "execution_count": 8,
     "metadata": {},
     "output_type": "execute_result"
    }
   ],
   "source": [
    "df_clean['Result'] = df_clean['Result'].replace(r'^\\s*$', np.nan, regex=True)\n",
    "df_clean.dropna()"
   ]
  },
  {
   "cell_type": "code",
   "execution_count": 9,
   "id": "33a233ee-c275-4ed2-92af-90607dccbac2",
   "metadata": {},
   "outputs": [],
   "source": [
    "df_clean['Result'] = df_clean['Result'].replace('l', 'L').replace('w', 'W')"
   ]
  },
  {
   "cell_type": "markdown",
   "id": "b33552fd-f9f7-4807-ac1d-69186dbc7e1c",
   "metadata": {},
   "source": [
    "a. How often does the candidate who raised more money win a race?"
   ]
  },
  {
   "cell_type": "code",
   "execution_count": 11,
   "id": "828c16a3-eede-4d60-b2cf-b3ece9a69833",
   "metadata": {},
   "outputs": [
    {
     "data": {
      "text/plain": [
       "89.14549653579677"
      ]
     },
     "execution_count": 11,
     "metadata": {},
     "output_type": "execute_result"
    }
   ],
   "source": [
    "candidate_win_raised_count = 0\n",
    "for state in df_clean['State'].unique():\n",
    "    for district in df_clean.loc[df_clean['State'] == state]['District'].unique():\n",
    "        winners_top_rcpts = df_clean.loc[df_clean['State']==state].loc[df_clean['District']==district].loc[df_clean['Result'] == 'W']['Money_Raised'].max()\n",
    "        losers_top_rcpts = df_clean.loc[df_clean['State']==state].loc[df_clean['District']==district].loc[df_clean['Result'] == 'L']['Money_Raised'].max()\n",
    "        if winners_top_rcpts > max(0, losers_top_rcpts): #losers_top_rcpts can be nan, replace with 0\n",
    "            candidate_win_raised_count += 1\n",
    "candidate_win_raised_percentage = 100 * candidate_win_raised_count/len(df_clean[df_clean['Result'] == 'W'])\n",
    "candidate_win_raised_percentage"
   ]
  },
  {
   "cell_type": "markdown",
   "id": "5c44d853-d538-4327-9800-64a7e2280088",
   "metadata": {},
   "source": [
    "b. How often does the candidate who spent more money win a race?"
   ]
  },
  {
   "cell_type": "code",
   "execution_count": 13,
   "id": "af91757e-86e8-4e39-99a1-854638b973cc",
   "metadata": {},
   "outputs": [
    {
     "data": {
      "text/plain": [
       "88.45265588914549"
      ]
     },
     "execution_count": 13,
     "metadata": {},
     "output_type": "execute_result"
    }
   ],
   "source": [
    "candidate_win_spent_count = 0\n",
    "for state in df_clean['State'].unique():\n",
    "    for district in df_clean.loc[df_clean['State'] == state]['District'].unique():\n",
    "        winners_top_spent = df_clean.loc[df_clean['State']==state].loc[df_clean['District']==district].loc[df_clean['Result'] == 'W']['Money_Spent'].max()\n",
    "        losers_top_spent = df_clean.loc[df_clean['State']==state].loc[df_clean['District']==district].loc[df_clean['Result'] == 'L']['Money_Spent'].max()\n",
    "        if winners_top_spent > max(0, losers_top_spent): #losers_top_spent can be nan, replace with 0\n",
    "            candidate_win_spent_count += 1\n",
    "candidate_win_spent_percentage = 100 * candidate_win_spent_count/len(df_clean[df_clean['Result'] == 'W'])\n",
    "candidate_win_spent_percentage"
   ]
  },
  {
   "cell_type": "code",
   "execution_count": null,
   "id": "83c4eaf4-8c86-4949-9de6-a20103236ec7",
   "metadata": {},
   "outputs": [],
   "source": []
  },
  {
   "cell_type": "markdown",
   "id": "958df816-e786-4d90-92d3-bd105b865d91",
   "metadata": {},
   "source": [
    "GROUPED BAR CHART Wins (money spent/money spent - MAYBE"
   ]
  },
  {
   "cell_type": "code",
   "execution_count": 14,
   "id": "138fc29a-c9cb-4f62-9407-021199d56264",
   "metadata": {},
   "outputs": [],
   "source": [
    "df_grouped = df_clean.groupby('Result')[['Money_Spent', 'Money_Raised']].sum().reset_index()"
   ]
  },
  {
   "cell_type": "code",
   "execution_count": 15,
   "id": "cb3d58c0-a787-4a83-9a66-0f30af0ba5a4",
   "metadata": {},
   "outputs": [
    {
     "data": {
      "image/png": "[encoded data removed]",
      "text/plain": [
       "<Figure size 800x600 with 1 Axes>"
      ]
     },
     "metadata": {},
     "output_type": "display_data"
    }
   ],
   "source": [
    "df_grouped.set_index('Result', inplace=True)\n",
    "\n",
    "ax = df_grouped.plot(kind='bar', stacked=True, figsize=(8, 6), color=['red', 'green'])\n",
    "\n",
    "ax.set_ylabel('Amount in $')\n",
    "ax.set_title('Money Spent vs Money Raised in Wins vs Losses')\n",
    "ax.set_xlabel('Result')\n",
    "\n",
    "ax.legend(title=\"Categories\", loc='upper left')\n",
    "\n",
    "plt.tight_layout()\n",
    "plt.show()"
   ]
  },
  {
   "cell_type": "code",
   "execution_count": null,
   "id": "2c7c3282-5271-46c3-8485-817f9c9a08b7",
   "metadata": {},
   "outputs": [],
   "source": []
  },
  {
   "cell_type": "code",
   "execution_count": null,
   "id": "ce1a774c-3281-4ed5-a6ce-a66ad7034483",
   "metadata": {},
   "outputs": [],
   "source": []
  }
 ],
 "metadata": {
  "kernelspec": {
   "display_name": "Python 3 (ipykernel)",
   "language": "python",
   "name": "python3"
  },
  "language_info": {
   "codemirror_mode": {
    "name": "ipython",
    "version": 3
   },
   "file_extension": ".py",
   "mimetype": "text/x-python",
   "name": "python",
   "nbconvert_exporter": "python",
   "pygments_lexer": "ipython3",
   "version": "3.12.4"
  }
 },
 "nbformat": 4,
 "nbformat_minor": 5
}
