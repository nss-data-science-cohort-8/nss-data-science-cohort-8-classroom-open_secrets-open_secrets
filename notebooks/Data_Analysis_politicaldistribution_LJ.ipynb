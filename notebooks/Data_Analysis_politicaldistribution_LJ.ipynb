{
 "cells": [
  {
   "cell_type": "code",
   "execution_count": 1,
   "id": "d287b9ed-75cc-474b-a163-fcb4b5dcca27",
   "metadata": {},
   "outputs": [],
   "source": [
    "import pandas as pd\n",
    "import os\n",
    "import matplotlib.pyplot as plt\n",
    "import numpy as np\n",
    "import seaborn as sns"
   ]
  },
  {
   "cell_type": "markdown",
   "id": "43077fea-1530-4040-ab3a-555d522f0fd2",
   "metadata": {},
   "source": [
    "### Part 2: Exploratory Data Analysis\n",
    "Using your scraped data, investigates different relationships between candidates and the amount of money they raised. Here are some suggestions to get you started, but feel free to pose you own questions or do additional exploration:  \n",
    "    a. How often does the candidate who raised more money win a race?  \n",
    "    b. How often does the candidate who spent more money win a race?  \n",
    "    c. Does the difference between either money raised or money spent seem to influence the likelihood of a candidate winning a race?  \n",
    "    d. How often does the incumbent candidate win a race?  \n",
    "    e. Can you detect any relationship between amount of money raised and the incumbent status of a candidate?"
   ]
  },
  {
   "cell_type": "code",
   "execution_count": 3,
   "id": "2c4b22f4-25ef-4505-90a6-12476df62a85",
   "metadata": {},
   "outputs": [
    {
     "name": "stdout",
     "output_type": "stream",
     "text": [
      "current working directory is C:\\Users\\lexil\\Documents\\NSS_Projects\\open-secrets-three-musketeers\n"
     ]
    }
   ],
   "source": [
    "os.chdir('..')\n",
    "print(f'current working directory is {os.getcwd()}')"
   ]
  },
  {
   "cell_type": "code",
   "execution_count": 4,
   "id": "1a2de412-ce96-4172-b199-f39660270561",
   "metadata": {},
   "outputs": [],
   "source": [
    "full_df = pd.read_csv('../open-secrets-three-musketeers/data/full_df.csv')"
   ]
  },
  {
   "cell_type": "code",
   "execution_count": 5,
   "id": "7e81bbec-5db1-491e-9f56-0c774abb7ce7",
   "metadata": {},
   "outputs": [],
   "source": [
    "df_dropped_columns = full_df.drop(columns=['Incumbent', 'IncCID', 'capeye', 'SmLgIndivsNote', 'DistIDCurr', 'PACs', 'Indivs', 'Cand', 'Other', 'ReleaseDate', 'enddate'])"
   ]
  },
  {
   "cell_type": "code",
   "execution_count": 6,
   "id": "ea9e11bf-a09e-4f27-a21c-55682b861aea",
   "metadata": {},
   "outputs": [],
   "source": [
    "df_clean = df_dropped_columns.rename(columns={'Rcpts': 'Money_Raised', 'Spent': 'Money_Spent', 'CRPICO': 'Candidate_Type'})"
   ]
  },
  {
   "cell_type": "markdown",
   "id": "d470a2d8-f103-438f-b7f6-a4b42f1dac63",
   "metadata": {},
   "source": [
    "How often does the candidate who raised more money win a race?\n",
    "\n",
    "would we loop through wins over losses in a specific district and then calculate the probability?"
   ]
  },
  {
   "cell_type": "code",
   "execution_count": 8,
   "id": "30a3f495-7b01-4d97-9dea-723aaaa43d5c",
   "metadata": {},
   "outputs": [
    {
     "data": {
      "text/html": [
       "<div>\n",
       "<style scoped>\n",
       "    .dataframe tbody tr th:only-of-type {\n",
       "        vertical-align: middle;\n",
       "    }\n",
       "\n",
       "    .dataframe tbody tr th {\n",
       "        vertical-align: top;\n",
       "    }\n",
       "\n",
       "    .dataframe thead th {\n",
       "        text-align: right;\n",
       "    }\n",
       "</style>\n",
       "<table border=\"1\" class=\"dataframe\">\n",
       "  <thead>\n",
       "    <tr style=\"text-align: right;\">\n",
       "      <th></th>\n",
       "      <th>cid</th>\n",
       "      <th>FirstLastP</th>\n",
       "      <th>Money_Raised</th>\n",
       "      <th>Money_Spent</th>\n",
       "      <th>EndCash</th>\n",
       "      <th>LgIndivs</th>\n",
       "      <th>SmIndivs</th>\n",
       "      <th>VotePercent</th>\n",
       "      <th>Result</th>\n",
       "      <th>Candidate_Type</th>\n",
       "      <th>State</th>\n",
       "      <th>primarydate</th>\n",
       "      <th>sort</th>\n",
       "      <th>District</th>\n",
       "      <th>State_Abv</th>\n",
       "    </tr>\n",
       "  </thead>\n",
       "  <tbody>\n",
       "    <tr>\n",
       "      <th>0</th>\n",
       "      <td>N00044245</td>\n",
       "      <td>Jerry Carl (R)</td>\n",
       "      <td>1971321.50</td>\n",
       "      <td>1859348.91</td>\n",
       "      <td>111972.59</td>\n",
       "      <td>999616.34</td>\n",
       "      <td>44579.61</td>\n",
       "      <td>64.88</td>\n",
       "      <td>W</td>\n",
       "      <td>O</td>\n",
       "      <td>Alabama</td>\n",
       "      <td>2020-03-03 00:00:00 +0000</td>\n",
       "      <td>2</td>\n",
       "      <td>1</td>\n",
       "      <td>AL</td>\n",
       "    </tr>\n",
       "    <tr>\n",
       "      <th>1</th>\n",
       "      <td>N00044750</td>\n",
       "      <td>James Averhart (D)</td>\n",
       "      <td>80094.95</td>\n",
       "      <td>78973.24</td>\n",
       "      <td>1121.71</td>\n",
       "      <td>37954.77</td>\n",
       "      <td>12895.18</td>\n",
       "      <td>35.04</td>\n",
       "      <td>L</td>\n",
       "      <td>O</td>\n",
       "      <td>Alabama</td>\n",
       "      <td>2020-03-03 00:00:00 +0000</td>\n",
       "      <td>2</td>\n",
       "      <td>1</td>\n",
       "      <td>AL</td>\n",
       "    </tr>\n",
       "    <tr>\n",
       "      <th>2</th>\n",
       "      <td>N00041295</td>\n",
       "      <td>Barry Moore (R)</td>\n",
       "      <td>650806.75</td>\n",
       "      <td>669367.70</td>\n",
       "      <td>-13633.28</td>\n",
       "      <td>346328.65</td>\n",
       "      <td>62207.55</td>\n",
       "      <td>65.30</td>\n",
       "      <td>W</td>\n",
       "      <td>O</td>\n",
       "      <td>Alabama</td>\n",
       "      <td>2020-03-03 00:00:00 +0000</td>\n",
       "      <td>2</td>\n",
       "      <td>2</td>\n",
       "      <td>AL</td>\n",
       "    </tr>\n",
       "    <tr>\n",
       "      <th>3</th>\n",
       "      <td>N00045944</td>\n",
       "      <td>Phyllis Harvey-Hall (D)</td>\n",
       "      <td>56049.68</td>\n",
       "      <td>55988.07</td>\n",
       "      <td>0.00</td>\n",
       "      <td>27105.15</td>\n",
       "      <td>15306.80</td>\n",
       "      <td>34.61</td>\n",
       "      <td>L</td>\n",
       "      <td>O</td>\n",
       "      <td>Alabama</td>\n",
       "      <td>2020-03-03 00:00:00 +0000</td>\n",
       "      <td>2</td>\n",
       "      <td>2</td>\n",
       "      <td>AL</td>\n",
       "    </tr>\n",
       "    <tr>\n",
       "      <th>5</th>\n",
       "      <td>N00024759</td>\n",
       "      <td>Mike D Rogers (R)</td>\n",
       "      <td>1193111.43</td>\n",
       "      <td>1218563.76</td>\n",
       "      <td>502233.70</td>\n",
       "      <td>438054.00</td>\n",
       "      <td>5315.00</td>\n",
       "      <td>67.54</td>\n",
       "      <td>W</td>\n",
       "      <td>I</td>\n",
       "      <td>Alabama</td>\n",
       "      <td>2020-03-03 00:00:00 +0000</td>\n",
       "      <td>1</td>\n",
       "      <td>3</td>\n",
       "      <td>AL</td>\n",
       "    </tr>\n",
       "    <tr>\n",
       "      <th>...</th>\n",
       "      <td>...</td>\n",
       "      <td>...</td>\n",
       "      <td>...</td>\n",
       "      <td>...</td>\n",
       "      <td>...</td>\n",
       "      <td>...</td>\n",
       "      <td>...</td>\n",
       "      <td>...</td>\n",
       "      <td>...</td>\n",
       "      <td>...</td>\n",
       "      <td>...</td>\n",
       "      <td>...</td>\n",
       "      <td>...</td>\n",
       "      <td>...</td>\n",
       "      <td>...</td>\n",
       "    </tr>\n",
       "    <tr>\n",
       "      <th>1256</th>\n",
       "      <td>N00045620</td>\n",
       "      <td>Tricia Zunker (D)</td>\n",
       "      <td>1261957.30</td>\n",
       "      <td>1232690.26</td>\n",
       "      <td>29267.04</td>\n",
       "      <td>566859.76</td>\n",
       "      <td>600014.91</td>\n",
       "      <td>39.24</td>\n",
       "      <td>L</td>\n",
       "      <td>C</td>\n",
       "      <td>Wisconsin</td>\n",
       "      <td>2020-08-11 00:00:00 +0000</td>\n",
       "      <td>2</td>\n",
       "      <td>7</td>\n",
       "      <td>WI</td>\n",
       "    </tr>\n",
       "    <tr>\n",
       "      <th>1257</th>\n",
       "      <td>N00039330</td>\n",
       "      <td>Mike Gallagher (R)</td>\n",
       "      <td>3202904.74</td>\n",
       "      <td>2841800.71</td>\n",
       "      <td>1169361.53</td>\n",
       "      <td>2040298.63</td>\n",
       "      <td>188430.08</td>\n",
       "      <td>63.98</td>\n",
       "      <td>W</td>\n",
       "      <td>I</td>\n",
       "      <td>Wisconsin</td>\n",
       "      <td>2020-08-11 00:00:00 +0000</td>\n",
       "      <td>1</td>\n",
       "      <td>8</td>\n",
       "      <td>WI</td>\n",
       "    </tr>\n",
       "    <tr>\n",
       "      <th>1258</th>\n",
       "      <td>N00045078</td>\n",
       "      <td>Amanda Stuck (D)</td>\n",
       "      <td>416978.45</td>\n",
       "      <td>399915.94</td>\n",
       "      <td>2164.80</td>\n",
       "      <td>221453.03</td>\n",
       "      <td>169379.57</td>\n",
       "      <td>36.02</td>\n",
       "      <td>L</td>\n",
       "      <td>C</td>\n",
       "      <td>Wisconsin</td>\n",
       "      <td>2020-08-11 00:00:00 +0000</td>\n",
       "      <td>2</td>\n",
       "      <td>8</td>\n",
       "      <td>WI</td>\n",
       "    </tr>\n",
       "    <tr>\n",
       "      <th>1259</th>\n",
       "      <td>N00035504</td>\n",
       "      <td>Liz Cheney (R)</td>\n",
       "      <td>3003883.34</td>\n",
       "      <td>3060166.78</td>\n",
       "      <td>153567.15</td>\n",
       "      <td>980348.72</td>\n",
       "      <td>189646.74</td>\n",
       "      <td>68.60</td>\n",
       "      <td>W</td>\n",
       "      <td>I</td>\n",
       "      <td>Wyoming</td>\n",
       "      <td>2020-08-18 00:00:00 +0000</td>\n",
       "      <td>1</td>\n",
       "      <td>1</td>\n",
       "      <td>WY</td>\n",
       "    </tr>\n",
       "    <tr>\n",
       "      <th>1260</th>\n",
       "      <td>N00047272</td>\n",
       "      <td>Lynnette Grey Bull (D)</td>\n",
       "      <td>134597.32</td>\n",
       "      <td>132234.75</td>\n",
       "      <td>2362.57</td>\n",
       "      <td>65975.00</td>\n",
       "      <td>64222.32</td>\n",
       "      <td>24.60</td>\n",
       "      <td>L</td>\n",
       "      <td>C</td>\n",
       "      <td>Wyoming</td>\n",
       "      <td>2020-08-18 00:00:00 +0000</td>\n",
       "      <td>2</td>\n",
       "      <td>1</td>\n",
       "      <td>WY</td>\n",
       "    </tr>\n",
       "  </tbody>\n",
       "</table>\n",
       "<p>893 rows × 15 columns</p>\n",
       "</div>"
      ],
      "text/plain": [
       "            cid               FirstLastP  Money_Raised  Money_Spent  \\\n",
       "0     N00044245           Jerry Carl (R)    1971321.50   1859348.91   \n",
       "1     N00044750       James Averhart (D)      80094.95     78973.24   \n",
       "2     N00041295          Barry Moore (R)     650806.75    669367.70   \n",
       "3     N00045944  Phyllis Harvey-Hall (D)      56049.68     55988.07   \n",
       "5     N00024759        Mike D Rogers (R)    1193111.43   1218563.76   \n",
       "...         ...                      ...           ...          ...   \n",
       "1256  N00045620        Tricia Zunker (D)    1261957.30   1232690.26   \n",
       "1257  N00039330       Mike Gallagher (R)    3202904.74   2841800.71   \n",
       "1258  N00045078         Amanda Stuck (D)     416978.45    399915.94   \n",
       "1259  N00035504           Liz Cheney (R)    3003883.34   3060166.78   \n",
       "1260  N00047272   Lynnette Grey Bull (D)     134597.32    132234.75   \n",
       "\n",
       "         EndCash    LgIndivs   SmIndivs  VotePercent Result Candidate_Type  \\\n",
       "0      111972.59   999616.34   44579.61        64.88      W              O   \n",
       "1        1121.71    37954.77   12895.18        35.04      L              O   \n",
       "2      -13633.28   346328.65   62207.55        65.30      W              O   \n",
       "3           0.00    27105.15   15306.80        34.61      L              O   \n",
       "5      502233.70   438054.00    5315.00        67.54      W              I   \n",
       "...          ...         ...        ...          ...    ...            ...   \n",
       "1256    29267.04   566859.76  600014.91        39.24      L              C   \n",
       "1257  1169361.53  2040298.63  188430.08        63.98      W              I   \n",
       "1258     2164.80   221453.03  169379.57        36.02      L              C   \n",
       "1259   153567.15   980348.72  189646.74        68.60      W              I   \n",
       "1260     2362.57    65975.00   64222.32        24.60      L              C   \n",
       "\n",
       "          State                primarydate  sort  District State_Abv  \n",
       "0       Alabama  2020-03-03 00:00:00 +0000     2         1        AL  \n",
       "1       Alabama  2020-03-03 00:00:00 +0000     2         1        AL  \n",
       "2       Alabama  2020-03-03 00:00:00 +0000     2         2        AL  \n",
       "3       Alabama  2020-03-03 00:00:00 +0000     2         2        AL  \n",
       "5       Alabama  2020-03-03 00:00:00 +0000     1         3        AL  \n",
       "...         ...                        ...   ...       ...       ...  \n",
       "1256  Wisconsin  2020-08-11 00:00:00 +0000     2         7        WI  \n",
       "1257  Wisconsin  2020-08-11 00:00:00 +0000     1         8        WI  \n",
       "1258  Wisconsin  2020-08-11 00:00:00 +0000     2         8        WI  \n",
       "1259    Wyoming  2020-08-18 00:00:00 +0000     1         1        WY  \n",
       "1260    Wyoming  2020-08-18 00:00:00 +0000     2         1        WY  \n",
       "\n",
       "[893 rows x 15 columns]"
      ]
     },
     "execution_count": 8,
     "metadata": {},
     "output_type": "execute_result"
    }
   ],
   "source": [
    "df_clean['Result'] = df_clean['Result'].replace(r'^\\s*$', np.nan, regex=True).replace(0, np.nan)\n",
    "df_clean = df_clean.dropna()\n",
    "df_clean"
   ]
  },
  {
   "cell_type": "code",
   "execution_count": 15,
   "id": "a46664c9-ce5d-4aaf-969a-2fd356a0fdc2",
   "metadata": {},
   "outputs": [
    {
     "name": "stdout",
     "output_type": "stream",
     "text": [
      "            cid               FirstLastP  Money_Raised  Money_Spent  \\\n",
      "0     N00044245           Jerry Carl (R)    1971321.50   1859348.91   \n",
      "1     N00044750       James Averhart (D)      80094.95     78973.24   \n",
      "2     N00041295          Barry Moore (R)     650806.75    669367.70   \n",
      "3     N00045944  Phyllis Harvey-Hall (D)      56049.68     55988.07   \n",
      "5     N00024759        Mike D Rogers (R)    1193111.43   1218563.76   \n",
      "...         ...                      ...           ...          ...   \n",
      "1256  N00045620        Tricia Zunker (D)    1261957.30   1232690.26   \n",
      "1257  N00039330       Mike Gallagher (R)    3202904.74   2841800.71   \n",
      "1258  N00045078         Amanda Stuck (D)     416978.45    399915.94   \n",
      "1259  N00035504           Liz Cheney (R)    3003883.34   3060166.78   \n",
      "1260  N00047272   Lynnette Grey Bull (D)     134597.32    132234.75   \n",
      "\n",
      "         EndCash    LgIndivs   SmIndivs  VotePercent Result Candidate_Type  \\\n",
      "0      111972.59   999616.34   44579.61        64.88      W              O   \n",
      "1        1121.71    37954.77   12895.18        35.04      L              O   \n",
      "2      -13633.28   346328.65   62207.55        65.30      W              O   \n",
      "3           0.00    27105.15   15306.80        34.61      L              O   \n",
      "5      502233.70   438054.00    5315.00        67.54      W              I   \n",
      "...          ...         ...        ...          ...    ...            ...   \n",
      "1256    29267.04   566859.76  600014.91        39.24      L              C   \n",
      "1257  1169361.53  2040298.63  188430.08        63.98      W              I   \n",
      "1258     2164.80   221453.03  169379.57        36.02      L              C   \n",
      "1259   153567.15   980348.72  189646.74        68.60      W              I   \n",
      "1260     2362.57    65975.00   64222.32        24.60      L              C   \n",
      "\n",
      "          State                primarydate  sort  District State_Abv  \n",
      "0       Alabama  2020-03-03 00:00:00 +0000     2         1        AL  \n",
      "1       Alabama  2020-03-03 00:00:00 +0000     2         1        AL  \n",
      "2       Alabama  2020-03-03 00:00:00 +0000     2         2        AL  \n",
      "3       Alabama  2020-03-03 00:00:00 +0000     2         2        AL  \n",
      "5       Alabama  2020-03-03 00:00:00 +0000     1         3        AL  \n",
      "...         ...                        ...   ...       ...       ...  \n",
      "1256  Wisconsin  2020-08-11 00:00:00 +0000     2         7        WI  \n",
      "1257  Wisconsin  2020-08-11 00:00:00 +0000     1         8        WI  \n",
      "1258  Wisconsin  2020-08-11 00:00:00 +0000     2         8        WI  \n",
      "1259    Wyoming  2020-08-18 00:00:00 +0000     1         1        WY  \n",
      "1260    Wyoming  2020-08-18 00:00:00 +0000     2         1        WY  \n",
      "\n",
      "[892 rows x 15 columns]\n"
     ]
    }
   ],
   "source": [
    "row_to_drop = df_clean[(df_clean['Money_Raised'] < 0) & (df_clean['cid'] == 'N00043369')]\n",
    "\n",
    "# Drop the row from clean_df using the index of the row to drop\n",
    "df_clean = df_clean.drop(row_to_drop.index)\n",
    "\n",
    "print(df_clean)"
   ]
  },
  {
   "cell_type": "code",
   "execution_count": 17,
   "id": "5178721f-de9b-426f-98f9-3ecbb3d30181",
   "metadata": {},
   "outputs": [
    {
     "name": "stdout",
     "output_type": "stream",
     "text": [
      "Empty DataFrame\n",
      "Columns: [cid, FirstLastP, Money_Raised, Money_Spent, EndCash, LgIndivs, SmIndivs, VotePercent, Result, Candidate_Type, State, primarydate, sort, District, State_Abv]\n",
      "Index: []\n"
     ]
    }
   ],
   "source": [
    "print(df_clean[(df_clean['Money_Raised'] < 0) & (df_clean['cid'] == 'N00043369')])"
   ]
  },
  {
   "cell_type": "code",
   "execution_count": 19,
   "id": "33a233ee-c275-4ed2-92af-90607dccbac2",
   "metadata": {},
   "outputs": [],
   "source": [
    "df_clean['Result'] = df_clean['Result'].replace('l', 'L').replace('w', 'W')"
   ]
  },
  {
   "cell_type": "markdown",
   "id": "b33552fd-f9f7-4807-ac1d-69186dbc7e1c",
   "metadata": {},
   "source": [
    "a. How often does the candidate who raised more money win a race?"
   ]
  },
  {
   "cell_type": "code",
   "execution_count": 22,
   "id": "828c16a3-eede-4d60-b2cf-b3ece9a69833",
   "metadata": {},
   "outputs": [
    {
     "data": {
      "text/plain": [
       "89.14549653579677"
      ]
     },
     "execution_count": 22,
     "metadata": {},
     "output_type": "execute_result"
    }
   ],
   "source": [
    "candidate_win_raised_count = 0\n",
    "for state in df_clean['State'].unique():\n",
    "    for district in df_clean.loc[df_clean['State'] == state]['District'].unique():\n",
    "        winners_top_rcpts = df_clean.loc[df_clean['State']==state].loc[df_clean['District']==district].loc[df_clean['Result'] == 'W']['Money_Raised'].max()\n",
    "        losers_top_rcpts = df_clean.loc[df_clean['State']==state].loc[df_clean['District']==district].loc[df_clean['Result'] == 'L']['Money_Raised'].max()\n",
    "        if winners_top_rcpts > max(0, losers_top_rcpts): #losers_top_rcpts can be nan, replace with 0\n",
    "            candidate_win_raised_count += 1\n",
    "candidate_win_raised_percentage = 100 * candidate_win_raised_count/len(df_clean[df_clean['Result'] == 'W'])\n",
    "candidate_win_raised_percentage"
   ]
  },
  {
   "cell_type": "markdown",
   "id": "5c44d853-d538-4327-9800-64a7e2280088",
   "metadata": {},
   "source": [
    "b. How often does the candidate who spent more money win a race?"
   ]
  },
  {
   "cell_type": "code",
   "execution_count": 25,
   "id": "af91757e-86e8-4e39-99a1-854638b973cc",
   "metadata": {},
   "outputs": [
    {
     "data": {
      "text/plain": [
       "88.45265588914549"
      ]
     },
     "execution_count": 25,
     "metadata": {},
     "output_type": "execute_result"
    }
   ],
   "source": [
    "candidate_win_spent_count = 0\n",
    "for state in df_clean['State'].unique():\n",
    "    for district in df_clean.loc[df_clean['State'] == state]['District'].unique():\n",
    "        winners_top_spent = df_clean.loc[df_clean['State']==state].loc[df_clean['District']==district].loc[df_clean['Result'] == 'W']['Money_Spent'].max()\n",
    "        losers_top_spent = df_clean.loc[df_clean['State']==state].loc[df_clean['District']==district].loc[df_clean['Result'] == 'L']['Money_Spent'].max()\n",
    "        if winners_top_spent > max(0, losers_top_spent): #losers_top_spent can be nan, replace with 0\n",
    "            candidate_win_spent_count += 1\n",
    "candidate_win_spent_percentage = 100 * candidate_win_spent_count/len(df_clean[df_clean['Result'] == 'W'])\n",
    "candidate_win_spent_percentage"
   ]
  },
  {
   "cell_type": "markdown",
   "id": "21514868-e66c-4fe3-95cc-ba2f87eec617",
   "metadata": {},
   "source": [
    "d. How often does the incumbent candidate win a race?"
   ]
  },
  {
   "cell_type": "code",
   "execution_count": 28,
   "id": "359501e6-ae4f-4fcc-8974-5105391b9f4e",
   "metadata": {},
   "outputs": [
    {
     "name": "stdout",
     "output_type": "stream",
     "text": [
      "Total Incumbents: 385\n",
      "Incumbents Who Won: 373\n",
      "Incumbent Success Percentage: 96.88%\n"
     ]
    }
   ],
   "source": [
    "incumbents = df_clean[df_clean['Candidate_Type'] == 'I']\n",
    "total_incumbents = incumbents.shape[0]\n",
    "\n",
    "incumbents_won = incumbents[incumbents['Result'] == 'W'].shape[0]\n",
    "\n",
    "if total_incumbents > 0:\n",
    "    win_percentage = (incumbents_won / total_incumbents) * 100\n",
    "else:\n",
    "    win_percentage = 0 \n",
    "\n",
    "print(f\"Total Incumbents: {total_incumbents}\")\n",
    "print(f\"Incumbents Who Won: {incumbents_won}\")\n",
    "print(f\"Incumbent Success Percentage: {win_percentage:.2f}%\")"
   ]
  },
  {
   "cell_type": "markdown",
   "id": "060982a8-1ed0-4df7-b98b-0095241eb356",
   "metadata": {},
   "source": [
    "e. Can you detect any relationship between amount of money raised and the incumbent status of a candidate?"
   ]
  },
  {
   "cell_type": "code",
   "execution_count": 31,
   "id": "4f222eb2-5541-4a64-900c-654710b49adb",
   "metadata": {},
   "outputs": [
    {
     "data": {
      "image/png": "[encoded data removed]",
      "text/plain": [
       "<Figure size 1000x600 with 1 Axes>"
      ]
     },
     "metadata": {},
     "output_type": "display_data"
    }
   ],
   "source": [
    "plt.figure(figsize=(10, 6))\n",
    "\n",
    "custom_palette = {'I': 'blue', 'O': 'orange', 'C': 'orange'}\n",
    "\n",
    "sns.boxplot(x='Candidate_Type', y='Money_Raised', data=df_clean, hue='Candidate_Type', palette=custom_palette, legend=False)\n",
    "\n",
    "plt.xlabel('Candidate Type', fontsize=14) \n",
    "plt.ylabel('Money Raised ($)', fontsize=14)  \n",
    "\n",
    "plt.title('Distribution of Money Raised by Candidate Type', fontsize=16)\n",
    "\n",
    "plt.show()"
   ]
  },
  {
   "cell_type": "code",
   "execution_count": 33,
   "id": "f06c2332-ea0c-45fb-9b1e-6c12055f260e",
   "metadata": {},
   "outputs": [
    {
     "data": {
      "text/plain": [
       "(count    3.850000e+02\n",
       " mean     2.813123e+06\n",
       " std      3.861846e+06\n",
       " min      3.277270e+05\n",
       " 25%      1.071961e+06\n",
       " 50%      1.700061e+06\n",
       " 75%      3.003883e+06\n",
       " max      3.726283e+07\n",
       " Name: Money_Raised, dtype: float64,\n",
       " count    1.090000e+02\n",
       " mean     1.740476e+06\n",
       " std      1.970974e+06\n",
       " min      0.000000e+00\n",
       " 25%      1.284580e+05\n",
       " 50%      1.418014e+06\n",
       " 75%      2.595446e+06\n",
       " max      1.123967e+07\n",
       " Name: Money_Raised, dtype: float64,\n",
       " count    3.980000e+02\n",
       " mean     9.195963e+05\n",
       " std      1.760100e+06\n",
       " min      0.000000e+00\n",
       " 25%      2.442241e+04\n",
       " 50%      1.105414e+05\n",
       " 75%      9.560108e+05\n",
       " max      1.205056e+07\n",
       " Name: Money_Raised, dtype: float64)"
      ]
     },
     "execution_count": 33,
     "metadata": {},
     "output_type": "execute_result"
    }
   ],
   "source": [
    "incumbents = df_clean[df_clean['Candidate_Type'] == 'I']\n",
    "open = df_clean[df_clean['Candidate_Type'] == 'O']\n",
    "challenger = df_clean[df_clean['Candidate_Type'] == 'C']\n",
    "\n",
    "incumbents_money = incumbents['Money_Raised']\n",
    "open_money = open['Money_Raised']\n",
    "challenger_money = challenger['Money_Raised']\n",
    "\n",
    "incumbents_money.describe(), open_money.describe(), challenger_money.describe()"
   ]
  },
  {
   "cell_type": "code",
   "execution_count": 39,
   "id": "ae4e212a-02b2-4b68-88d5-6a0c1237fe2c",
   "metadata": {},
   "outputs": [
    {
     "name": "stdout",
     "output_type": "stream",
     "text": [
      "            cid           FirstLastP  Money_Raised  Money_Spent  EndCash  \\\n",
      "55    N00045123     Scott Giblin (R)           0.0       593.86     0.00   \n",
      "75    N00045124    Alison Hayden (R)           0.0      8357.65  5727.32   \n",
      "253   N00045680  Theodore Murray (I)           0.0        10.00   499.00   \n",
      "256   N00047454      K.W. Miller (3)           0.0         0.00   100.00   \n",
      "823   N00047555  Theresa Everett (I)           0.0         0.00  6873.15   \n",
      "891   N00043366  Richie Castaldo (L)           0.0      1425.00     0.00   \n",
      "1039  N00046292      Shawn Kelly (L)           0.0         0.00     0.00   \n",
      "1092  N00038289       Tom Wakely (3)           0.0         0.00     0.00   \n",
      "1111  N00045168       Jay Taylor (I)           0.0         0.00     0.00   \n",
      "1197  N00033103     Andrew Straw (3)           0.0         0.00     0.00   \n",
      "\n",
      "      LgIndivs  SmIndivs  VotePercent Result Candidate_Type           State  \\\n",
      "55         0.0       0.0        23.20      L              C      California   \n",
      "75         0.0       0.0        29.10      L              C      California   \n",
      "253        0.0       0.0         1.30      L              C         Florida   \n",
      "256        0.0       0.0         2.20      L              C         Florida   \n",
      "823        0.0       0.0         0.07      L              C  North Carolina   \n",
      "891        0.0       0.0         2.96      L              C        Oklahoma   \n",
      "1039       0.0       0.0         1.76      L              C           Texas   \n",
      "1092       0.0       0.0         0.79      L              C           Texas   \n",
      "1111       0.0       0.0         0.00      L              C           Texas   \n",
      "1197       0.0       0.0         0.00      L              C        Virginia   \n",
      "\n",
      "                    primarydate  sort  District State_Abv  \n",
      "55    2020-03-03 00:00:00 +0000     2         5        CA  \n",
      "75    2020-03-03 00:00:00 +0000     2        15        CA  \n",
      "253   2020-08-18 00:00:00 +0000     2        17        FL  \n",
      "256   2020-08-18 00:00:00 +0000     2        18        FL  \n",
      "823   2020-03-03 00:00:00 +0000     2         7        NC  \n",
      "891   2020-06-30 00:00:00 +0000     2         2        OK  \n",
      "1039  2020-03-03 00:00:00 +0000     2         7        TX  \n",
      "1092  2020-03-03 00:00:00 +0000     2        21        TX  \n",
      "1111  2020-03-03 00:00:00 +0000     2        26        TX  \n",
      "1197  2020-06-09 00:00:00 +0000     2         8        VA  \n"
     ]
    }
   ],
   "source": [
    "challenger_negative_money = challenger[challenger['Money_Raised'] == 0]\n",
    "\n",
    "print(challenger_negative_money)"
   ]
  },
  {
   "cell_type": "markdown",
   "id": "1a1f1e04-3787-4347-b4a1-10093ec7d4d8",
   "metadata": {},
   "source": [
    "Incumbents, on average, raised the most amount of money clocking in at an average of $2.8M raised. Open candidates followed behind with an average of $1.25M and lastly, challenger candidates with $508K. \n",
    "\n",
    "Incumbents vary more in the amount of money raised and have the highest std deviation. \n",
    "\n"
   ]
  },
  {
   "cell_type": "code",
   "execution_count": 20,
   "id": "12d245ed-94bc-44c5-9789-d8acc25b7ab8",
   "metadata": {},
   "outputs": [
    {
     "data": {
      "image/png": "[encoded data removed]",
      "text/plain": [
       "<Figure size 1000x600 with 1 Axes>"
      ]
     },
     "metadata": {},
     "output_type": "display_data"
    }
   ],
   "source": [
    "df_clean['Incumbent'] = df_clean['Candidate_Type'].apply(lambda x: 'Incumbent' if x == 'I' else 'Non-Incumbent')\n",
    "\n",
    "plt.figure(figsize=(10, 6))\n",
    "sns.boxplot(x='Incumbent', y='Money_Raised', data=df_clean)\n",
    "plt.title(\"Money Raised by Incumbent Status\")\n",
    "plt.show()"
   ]
  },
  {
   "cell_type": "code",
   "execution_count": null,
   "id": "43740ecd-67c5-4166-acb8-bf18a22b1db6",
   "metadata": {},
   "outputs": [],
   "source": []
  }
 ],
 "metadata": {
  "kernelspec": {
   "display_name": "Python 3 (ipykernel)",
   "language": "python",
   "name": "python3"
  },
  "language_info": {
   "codemirror_mode": {
    "name": "ipython",
    "version": 3
   },
   "file_extension": ".py",
   "mimetype": "text/x-python",
   "name": "python",
   "nbconvert_exporter": "python",
   "pygments_lexer": "ipython3",
   "version": "3.12.4"
  }
 },
 "nbformat": 4,
 "nbformat_minor": 5
}
